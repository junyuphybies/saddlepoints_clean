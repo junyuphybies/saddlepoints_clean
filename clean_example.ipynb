{
 "cells": [
  {
   "cell_type": "markdown",
   "metadata": {},
   "source": [
    "## qBraid instructions:\n",
    "\n",
    "The following code will require a custom python environment with the requirements.txt provided in this repo. You can copy the contents of the requirements.txt and use them to create a new python environment on qBraid. The instructions are given at https://docs.qbraid.com/projects/lab/en/latest/lab/environments.html#create-environment\n",
    "\n",
    "You can use the access-key to get access to environment-manager on qBraid. Find instructions here https://docs.qbraid.com/projects/lab/en/latest/lab/account.html#add-access-key\n",
    "\n",
    "Once you have set up your environment, add the kernel and make sure to activate and select it from the top right of this notebook. With the right python environment and kernel selected the code below should run without any problem.\n",
    "\n",
    "Have fun!\n"
   ]
  },
  {
   "cell_type": "code",
   "execution_count": null,
   "metadata": {
    "tags": []
   },
   "outputs": [],
   "source": [
    "%matplotlib inline\n",
    "import pennylane as qml\n",
    "import numpy as np\n",
    "import pennylane.numpy as pnp\n",
    "import jax\n",
    "import jax.numpy as jnp\n",
    "from tqdm import tqdm\n",
    "import matplotlib as mpl\n",
    "import matplotlib.pyplot as plt\n",
    "from qiskit.providers.aer.noise import NoiseModel\n",
    "\n",
    "import types\n",
    "import qiskit\n",
    "from functools import partial\n",
    "mpl.rcParams['figure.facecolor'] = 'white'\n",
    "mpl.rcParams['axes.labelsize'] = 15"
   ]
  },
  {
   "cell_type": "markdown",
   "metadata": {},
   "source": [
    "### Configuration"
   ]
  },
  {
   "cell_type": "code",
   "execution_count": null,
   "metadata": {
    "tags": []
   },
   "outputs": [],
   "source": [
    "\n",
    "from qiskit.providers.fake_provider.backends import FakeKolkata\n",
    "backend = FakeKolkata()\n",
    "noise_model = NoiseModel.from_backend(backend)"
   ]
  },
  {
   "cell_type": "code",
   "execution_count": null,
   "metadata": {
    "scrolled": true,
    "tags": []
   },
   "outputs": [],
   "source": [
    "# with open('IBMQ_token.txt', 'r') as f:\n",
    "#     TOKEN = f.read().strip()\n",
    "# provider = qiskit.IBMQ.enable_account(token=TOKEN,hub='ibm-q-ornl', group='ornl', project='phy170')\n",
    "# backend = provider.get_backend('ibmq_kolkata')"
   ]
  },
  {
   "cell_type": "code",
   "execution_count": null,
   "metadata": {
    "tags": []
   },
   "outputs": [],
   "source": [
    "import pennylane as qml\n",
    "dev = qml.device('qiskit.aer', wires=2)"
   ]
  },
  {
   "cell_type": "code",
   "execution_count": null,
   "metadata": {
    "tags": []
   },
   "outputs": [],
   "source": [
    "#backend = provider.get_backend('ibm_algiers')\n",
    "noise_model = NoiseModel.from_backend(backend)  # use this line to simulate device noise\n",
    "# noise_model = None  # use this line for no device noise\n",
    "\n",
    "num_qubits, num_layers = 4, 2\n",
    "shotlist= [1000, 100, 90, 80, 70, 60, 50, 40, 30, 20, 10, 5]\n",
    "\n",
    "noisy_device0 = qml.device(\n",
    "    'qiskit.aer',\n",
    "    wires=num_qubits,\n",
    "    shots=shotlist[0],\n",
    "    backend='qasm_simulator',\n",
    "    noise_model=noise_model)\n",
    "noisy_device1 = qml.device(\n",
    "    'qiskit.aer',\n",
    "    wires=num_qubits,\n",
    "    shots=shotlist[1],\n",
    "    backend='aer_simulator_statevector',\n",
    "    noise_model=noise_model)\n",
    "noisy_device2 = qml.device(\n",
    "    'qiskit.aer',\n",
    "    wires=num_qubits,\n",
    "    shots=shotlist[2],\n",
    "    backend='aer_simulator_statevector',\n",
    "    noise_model=noise_model)\n",
    "noisy_device3 = qml.device(\n",
    "    'qiskit.aer',\n",
    "    wires=num_qubits,\n",
    "    shots=shotlist[3],\n",
    "    backend='aer_simulator_statevector',\n",
    "    noise_model=noise_model)\n",
    "noisy_device4 = qml.device(\n",
    "    'qiskit.aer',\n",
    "    wires=num_qubits,\n",
    "    shots=shotlist[4],\n",
    "    backend='aer_simulator_statevector',\n",
    "    noise_model=noise_model)\n",
    "noisy_device5 = qml.device(\n",
    "    'qiskit.aer',\n",
    "    wires=num_qubits,\n",
    "    shots=shotlist[5],\n",
    "    backend='aer_simulator_statevector',\n",
    "    noise_model=noise_model)\n",
    "noisy_device6 = qml.device(\n",
    "    'qiskit.aer',\n",
    "    wires=num_qubits,\n",
    "    shots=shotlist[6],\n",
    "    backend='aer_simulator_statevector',\n",
    "    noise_model=noise_model)\n",
    "noisy_device7 = qml.device(\n",
    "    'qiskit.aer',\n",
    "    wires=num_qubits,\n",
    "    shots=shotlist[7],\n",
    "    backend='aer_simulator_statevector',\n",
    "    noise_model=noise_model)\n",
    "noisy_device8 = qml.device(\n",
    "    'qiskit.aer',\n",
    "    wires=num_qubits,\n",
    "    shots=shotlist[8],\n",
    "    backend='aer_simulator_statevector',\n",
    "    noise_model=noise_model)\n",
    "noisy_device9 = qml.device(\n",
    "    'qiskit.aer',\n",
    "    wires=num_qubits,\n",
    "    shots=shotlist[9],\n",
    "    backend='aer_simulator_statevector',\n",
    "    noise_model=noise_model)\n",
    "noisy_device10 = qml.device(\n",
    "    'qiskit.aer',\n",
    "    wires=num_qubits,\n",
    "    shots=shotlist[10],\n",
    "    backend='aer_simulator_statevector',\n",
    "    noise_model=noise_model)\n",
    "noisy_device11 = qml.device(\n",
    "    'qiskit.aer',\n",
    "    wires=num_qubits,\n",
    "    shots=shotlist[11],\n",
    "    backend='aer_simulator_statevector',\n",
    "    noise_model=noise_model)\n",
    "\n",
    "\n",
    "ideal_device = qml.device(\n",
    "    'default.qubit.jax',\n",
    "    wires=num_qubits)"
   ]
  },
  {
   "cell_type": "markdown",
   "metadata": {},
   "source": [
    "### Build a simple circuit and a loss function"
   ]
  },
  {
   "cell_type": "code",
   "execution_count": null,
   "metadata": {
    "tags": []
   },
   "outputs": [],
   "source": [
    "def circuit(parameters):\n",
    "    qml.StronglyEntanglingLayers(parameters, wires=range(num_qubits))\n",
    "    return [qml.expval(qml.PauliZ(i)) for i in range(num_qubits)]\n",
    "\n",
    "ideal_circuit = qml.QNode(circuit, ideal_device, diff_method='backprop', interface='jax')\n",
    "noisy_circuit0 = qml.QNode(circuit, noisy_device0, diff_method='parameter-shift')\n",
    "noisy_circuit1 = qml.QNode(circuit, noisy_device1, diff_method='parameter-shift')\n",
    "noisy_circuit2 = qml.QNode(circuit, noisy_device2, diff_method='parameter-shift')\n",
    "noisy_circuit3 = qml.QNode(circuit, noisy_device3, diff_method='parameter-shift')\n",
    "noisy_circuit4 = qml.QNode(circuit, noisy_device4, diff_method='parameter-shift')\n",
    "noisy_circuit5 = qml.QNode(circuit, noisy_device5, diff_method='parameter-shift')\n",
    "noisy_circuit6 = qml.QNode(circuit, noisy_device6, diff_method='parameter-shift')\n",
    "noisy_circuit7 = qml.QNode(circuit, noisy_device7, diff_method='parameter-shift')\n",
    "noisy_circuit8 = qml.QNode(circuit, noisy_device8, diff_method='parameter-shift')\n",
    "noisy_circuit9 = qml.QNode(circuit, noisy_device9, diff_method='parameter-shift')\n",
    "noisy_circuit10 = qml.QNode(circuit, noisy_device10, diff_method='parameter-shift')\n",
    "noisy_circuit11 = qml.QNode(circuit, noisy_device11, diff_method='parameter-shift')\n",
    "\n",
    "\n",
    "\n",
    "@jax.jit\n",
    "def loss_ideal(params):\n",
    "    return jnp.sum(ideal_circuit(params))\n",
    "\n",
    "def loss_noisy0(params):\n",
    "    return pnp.sum(noisy_circuit0(params))\n",
    "def loss_noisy1(params):\n",
    "    return pnp.sum(noisy_circuit1(params))\n",
    "def loss_noisy2(params):\n",
    "    return pnp.sum(noisy_circuit2(params))\n",
    "def loss_noisy3(params):\n",
    "    return pnp.sum(noisy_circuit3(params))\n",
    "def loss_noisy4(params):\n",
    "    return pnp.sum(noisy_circuit4(params))\n",
    "def loss_noisy5(params):\n",
    "    return pnp.sum(noisy_circuit5(params))\n",
    "def loss_noisy6(params):\n",
    "    return pnp.sum(noisy_circuit6(params))\n",
    "def loss_noisy7(params):\n",
    "    return pnp.sum(noisy_circuit7(params))\n",
    "def loss_noisy8(params):\n",
    "    return pnp.sum(noisy_circuit8(params))\n",
    "def loss_noisy9(params):\n",
    "    return pnp.sum(noisy_circuit9(params))\n",
    "def loss_noisy10(params):\n",
    "    return pnp.sum(noisy_circuit10(params))\n",
    "def loss_noisy11(params):\n",
    "    return pnp.sum(noisy_circuit11(params))"
   ]
  },
  {
   "cell_type": "markdown",
   "metadata": {},
   "source": [
    "### How to run and draw the circuit"
   ]
  },
  {
   "cell_type": "code",
   "execution_count": null,
   "metadata": {
    "tags": []
   },
   "outputs": [],
   "source": [
    "key = jax.random.PRNGKey(42)\n",
    "shape = qml.StronglyEntanglingLayers.shape(n_layers=num_layers, n_wires=num_qubits)\n",
    "params = jax.random.uniform(key, shape, minval=0., maxval=2*jnp.pi)"
   ]
  },
  {
   "cell_type": "code",
   "execution_count": null,
   "metadata": {
    "tags": []
   },
   "outputs": [],
   "source": [
    "key = jax.random.PRNGKey(0)\n",
    "initializations = jax.random.uniform(key, (1000, num_layers, num_qubits, 3), minval=0., maxval=2*jnp.pi)"
   ]
  },
  {
   "cell_type": "code",
   "execution_count": null,
   "metadata": {
    "tags": []
   },
   "outputs": [],
   "source": [
    "def optimize_noisy0(ini, step_size=0.2, max_iter=200, gtol=1e-4):\n",
    "    l, g, p = [], [], [pnp.array(ini)]\n",
    "    for _ in tqdm(range(max_iter)):\n",
    "        l.append(loss_noisy0(p[-1]))\n",
    "        g.append(qml.grad(loss_noisy0)(p[-1]))\n",
    "        p.append(p[-1] - step_size*g[-1])\n",
    "        if pnp.linalg.norm(g[-1]) / g[-1].size < gtol:\n",
    "            break\n",
    "    return l, g, p\n",
    "\n",
    "def optimize_noisy1(ini, step_size=0.2, max_iter=200, gtol=1e-4):\n",
    "    l, g, p = [], [], [pnp.array(ini)]\n",
    "    for _ in tqdm(range(max_iter)):\n",
    "        l.append(loss_noisy1(p[-1]))\n",
    "        g.append(qml.grad(loss_noisy1)(p[-1]))\n",
    "        p.append(p[-1] - step_size*g[-1])\n",
    "        if pnp.linalg.norm(g[-1]) / g[-1].size < gtol:\n",
    "            break\n",
    "    return l, g, p\n",
    "def optimize_noisy2(ini, step_size=0.2, max_iter=200, gtol=1e-4):\n",
    "    l, g, p = [], [], [pnp.array(ini)]\n",
    "    for _ in tqdm(range(max_iter)):\n",
    "        l.append(loss_noisy2(p[-1]))\n",
    "        g.append(qml.grad(loss_noisy2)(p[-1]))\n",
    "        p.append(p[-1] - step_size*g[-1])\n",
    "        if pnp.linalg.norm(g[-1]) / g[-1].size < gtol:\n",
    "            break\n",
    "    return l, g, p\n",
    "def optimize_noisy3(ini, step_size=0.2, max_iter=200, gtol=1e-4):\n",
    "    l, g, p = [], [], [pnp.array(ini)]\n",
    "    for _ in tqdm(range(max_iter)):\n",
    "        l.append(loss_noisy3(p[-1]))\n",
    "        g.append(qml.grad(loss_noisy3)(p[-1]))\n",
    "        p.append(p[-1] - step_size*g[-1])\n",
    "        if pnp.linalg.norm(g[-1]) / g[-1].size < gtol:\n",
    "            break\n",
    "    return l, g, p\n",
    "def optimize_noisy4(ini, step_size=0.2, max_iter=200, gtol=1e-4):\n",
    "    l, g, p = [], [], [pnp.array(ini)]\n",
    "    for _ in tqdm(range(max_iter)):\n",
    "        l.append(loss_noisy4(p[-1]))\n",
    "        g.append(qml.grad(loss_noisy4)(p[-1]))\n",
    "        p.append(p[-1] - step_size*g[-1])\n",
    "        if pnp.linalg.norm(g[-1]) / g[-1].size < gtol:\n",
    "            break\n",
    "    return l, g, p\n",
    "def optimize_noisy5(ini, step_size=0.2, max_iter=200, gtol=1e-4):\n",
    "    l, g, p = [], [], [pnp.array(ini)]\n",
    "    for _ in tqdm(range(max_iter)):\n",
    "        l.append(loss_noisy5(p[-1]))\n",
    "        g.append(qml.grad(loss_noisy5)(p[-1]))\n",
    "        p.append(p[-1] - step_size*g[-1])\n",
    "        if pnp.linalg.norm(g[-1]) / g[-1].size < gtol:\n",
    "            break\n",
    "    return l, g, p\n",
    "def optimize_noisy6(ini, step_size=0.2, max_iter=200, gtol=1e-4):\n",
    "    l, g, p = [], [], [pnp.array(ini)]\n",
    "    for _ in tqdm(range(max_iter)):\n",
    "        l.append(loss_noisy6(p[-1]))\n",
    "        g.append(qml.grad(loss_noisy6)(p[-1]))\n",
    "        p.append(p[-1] - step_size*g[-1])\n",
    "        if pnp.linalg.norm(g[-1]) / g[-1].size < gtol:\n",
    "            break\n",
    "    return l, g, p\n",
    "def optimize_noisy7(ini, step_size=0.2, max_iter=200, gtol=1e-4):\n",
    "    l, g, p = [], [], [pnp.array(ini)]\n",
    "    for _ in tqdm(range(max_iter)):\n",
    "        l.append(loss_noisy7(p[-1]))\n",
    "        g.append(qml.grad(loss_noisy7)(p[-1]))\n",
    "        p.append(p[-1] - step_size*g[-1])\n",
    "        if pnp.linalg.norm(g[-1]) / g[-1].size < gtol:\n",
    "            break\n",
    "    return l, g, p\n",
    "def optimize_noisy8(ini, step_size=0.2, max_iter=200, gtol=1e-4):\n",
    "    l, g, p = [], [], [pnp.array(ini)]\n",
    "    for _ in tqdm(range(max_iter)):\n",
    "        l.append(loss_noisy8(p[-1]))\n",
    "        g.append(qml.grad(loss_noisy8)(p[-1]))\n",
    "        p.append(p[-1] - step_size*g[-1])\n",
    "        if pnp.linalg.norm(g[-1]) / g[-1].size < gtol:\n",
    "            break\n",
    "    return l, g, p\n",
    "def optimize_noisy9(ini, step_size=0.2, max_iter=200, gtol=1e-4):\n",
    "    l, g, p = [], [], [pnp.array(ini)]\n",
    "    for _ in tqdm(range(max_iter)):\n",
    "        l.append(loss_noisy9(p[-1]))\n",
    "        g.append(qml.grad(loss_noisy9)(p[-1]))\n",
    "        p.append(p[-1] - step_size*g[-1])\n",
    "        if pnp.linalg.norm(g[-1]) / g[-1].size < gtol:\n",
    "            break\n",
    "    return l, g, p\n",
    "def optimize_noisy10(ini, step_size=0.2, max_iter=200, gtol=1e-4):\n",
    "    l, g, p = [], [], [pnp.array(ini)]\n",
    "    for _ in tqdm(range(max_iter)):\n",
    "        l.append(loss_noisy10(p[-1]))\n",
    "        g.append(qml.grad(loss_noisy10)(p[-1]))\n",
    "        p.append(p[-1] - step_size*g[-1])\n",
    "        if pnp.linalg.norm(g[-1]) / g[-1].size < gtol:\n",
    "            break\n",
    "    return l, g, p\n",
    "def optimize_noisy11(ini, step_size=0.2, max_iter=200, gtol=1e-4):\n",
    "    l, g, p = [], [], [pnp.array(ini)]\n",
    "    for _ in tqdm(range(max_iter)):\n",
    "        l.append(loss_noisy11(p[-1]))\n",
    "        g.append(qml.grad(loss_noisy11)(p[-1]))\n",
    "        p.append(p[-1] - step_size*g[-1])\n",
    "        if pnp.linalg.norm(g[-1]) / g[-1].size < gtol:\n",
    "            break\n",
    "    return l, g, p\n",
    "\n",
    "def optimize_ideal(ini, step_size=0.2, max_iter=200, gtol=1e-4):\n",
    "    l, g, p = [], [], [ini]\n",
    "    for _ in tqdm(range(max_iter)):\n",
    "        l.append(loss_noisy(p[-1]))\n",
    "        g.append(jax.grad(loss_ideal)(p[-1]))\n",
    "        p.append(p[-1] - step_size*g[-1])\n",
    "        if jnp.linalg.norm(g[-1]) / g[-1].size < gtol:\n",
    "            break\n",
    "    return l, g, p"
   ]
  },
  {
   "cell_type": "code",
   "execution_count": null,
   "metadata": {
    "scrolled": true,
    "tags": []
   },
   "outputs": [],
   "source": [
    "results0 = [optimize_noisy0(ini, max_iter=100) for ini in [initializations[3]]]"
   ]
  },
  {
   "cell_type": "code",
   "execution_count": null,
   "metadata": {},
   "outputs": [],
   "source": [
    "results=[results0[0]]\n",
    "_, (ax1, ax2) = plt.subplots(1, 2, figsize=(20, 8))\n",
    "c = plt.get_cmap('tab10').colors\n",
    "for i, (lh, gh, ph) in enumerate(results):\n",
    "    i = i % len(c)\n",
    "    ax1.plot(lh, color=c[i])\n",
    "    ax1.plot(len(lh), lh[-1], 'o', color=c[i])\n",
    "    ax1.set_ylabel('L')\n",
    "    ax2.plot([jnp.linalg.norm(g) / g.size for g in gh])\n",
    "    ax2.semilogy()\n",
    "    ax2.set_ylabel(r'$\\Vert \\nabla L\\Vert_2$')"
   ]
  },
  {
   "cell_type": "code",
   "execution_count": null,
   "metadata": {},
   "outputs": [],
   "source": [
    "np.save('total_shotnoise_devicefull.npy',np.array(results))"
   ]
  }
 ],
 "metadata": {
  "kernelspec": {
   "display_name": "Python 3 [junyut]",
   "language": "python",
   "name": "python3_junyut_7a4vhz"
  },
  "language_info": {
   "codemirror_mode": {
    "name": "ipython",
    "version": 3
   },
   "file_extension": ".py",
   "mimetype": "text/x-python",
   "name": "python",
   "nbconvert_exporter": "python",
   "pygments_lexer": "ipython3",
   "version": "3.9.18"
  }
 },
 "nbformat": 4,
 "nbformat_minor": 4
}
